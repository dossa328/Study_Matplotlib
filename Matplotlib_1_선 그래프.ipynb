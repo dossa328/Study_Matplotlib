{
 "cells": [
  {
   "cell_type": "markdown",
   "metadata": {},
   "source": [
    "#### Matplotlib은 파이썬에서 매트랩과 유사한 그래프 표시를 가능케 하는 라이브러리다.\n",
    "#### 당연히 언어는 Python 기반이며, 본 실습은 Jupyter위에서 진행하였다.\n",
    "본 실습은 https://wikidocs.net/13572 를 참고하였습니다"
   ]
  },
  {
   "cell_type": "code",
   "execution_count": 3,
   "metadata": {},
   "outputs": [],
   "source": [
    "import warnings\n",
    "\n",
    "warnings.simplefilter(action='ignore', category=Warning)\n",
    "\n",
    "# warning을 무시하기 위해 전처리를 해준다"
   ]
  },
  {
   "cell_type": "markdown",
   "metadata": {},
   "source": [
    "***"
   ]
  },
  {
   "cell_type": "markdown",
   "metadata": {},
   "source": [
    "#  1. Draw Linear Line"
   ]
  },
  {
   "cell_type": "markdown",
   "metadata": {},
   "source": [
    "### 1-1. 직선 그리기"
   ]
  },
  {
   "cell_type": "code",
   "execution_count": 6,
   "metadata": {},
   "outputs": [
    {
     "data": {
      "image/png": "[encoded data removed]",
      "text/plain": [
       "<Figure size 432x288 with 1 Axes>"
      ]
     },
     "metadata": {
      "needs_background": "light"
     },
     "output_type": "display_data"
    }
   ],
   "source": [
    "import matplotlib.pyplot as plt # matplotlib.pyplot 객체를 plt로 정의하고 import한다.\n",
    "\n",
    "plt.plot([1,2,3,4,5,6,7,8,9,10]) # y 값에 대한 수열을 넣어준다 (y축 값)\n",
    "\n",
    "# plt.plot([0,1,2,3,4,5,6,7,8,9], [1,2,3,4,5,6,7,8,9,10]) \n",
    "\n",
    "plt.title('linear graph') # 그래프의 타이틀 이름을 정한다.\n",
    "plt.xlabel('x-axis')  # x축의 이름을 정한다\n",
    "plt.ylabel('y-axis')  # y축의 이름을 정한다\n",
    "plt.show() # 그래프 출력"
   ]
  },
  {
   "cell_type": "markdown",
   "metadata": {},
   "source": [
    "* `plt.plot([1,2,3,4,5,6,7,8,9,10])` 는 y축 데이터만을 가리킨다.\n",
    "* x축 데이터는 자동으로 0부터 생성된다\n",
    "* plot 명령은 default로 '선'으로 생성을 의미한다"
   ]
  },
  {
   "cell_type": "markdown",
   "metadata": {},
   "source": [
    "### 1-2. 점 그래프 그리기"
   ]
  },
  {
   "cell_type": "code",
   "execution_count": 14,
   "metadata": {},
   "outputs": [
    {
     "data": {
      "image/png": "[encoded data removed]",
      "text/plain": [
       "<Figure size 432x288 with 1 Axes>"
      ]
     },
     "metadata": {
      "needs_background": "light"
     },
     "output_type": "display_data"
    }
   ],
   "source": [
    "import matplotlib.pyplot as plt\n",
    "\n",
    "plt.plot([1,2,3,4], [0,3,8,9], 'bo')\n",
    "# plt.plot([1,2,3,4], [0,3,8,9], 'ro') 등으로 응용이 가능하다\n",
    "# plt.plot([1,2,3,4], [0,3,8,9], 'b-')\n",
    "plt.xlabel('x-axis')\n",
    "plt.ylabel('y-axis')\n",
    "plt.show()"
   ]
  },
  {
   "cell_type": "markdown",
   "metadata": {},
   "source": [
    "* plot의 기본 형태는 ` plt.plot(x = ' ', y= ' ' , etc..)` 이며 위에서 'bo' 는 '(b)lue d(o)t'의 약자이다. (색상은 응용이 가능하다.)\n",
    "* plot이 그려주는 기본 선의 색상은 blue 이다. (b)lue line(-)으로 표기할 수 있다.\n",
    "* `plt.plot([1,2,3,4], [0,3,8,9], 'b-')`와 같이 코드를 바꾼다면 line(-)으로 바뀌어 출력됨을 알 수 있다."
   ]
  },
  {
   "cell_type": "markdown",
   "metadata": {},
   "source": [
    "### 1-3. numpy를 이용한 배열로 그래프 그리기"
   ]
  },
  {
   "cell_type": "code",
   "execution_count": 28,
   "metadata": {},
   "outputs": [
    {
     "data": {
      "image/png": "[encoded data removed]",
      "text/plain": [
       "<Figure size 432x288 with 1 Axes>"
      ]
     },
     "metadata": {
      "needs_background": "light"
     },
     "output_type": "display_data"
    }
   ],
   "source": [
    "import numpy as np    # numpy객체를 np로 정의하고 호출한다\n",
    "import matplotlib.pyplot as plt\n",
    "\n",
    "t = np.arange(0., 3., 0.2)   # 0 이상 3 미만까지 0.2 간격으로 배열을 만든다\n",
    "plt.plot(t, t, 'r--', t, t**2, 'bs', t, t**3, 'g^')\n",
    "plt.show()"
   ]
  },
  {
   "cell_type": "markdown",
   "metadata": {},
   "source": [
    "* `plt.plot(t, t, 'r--', t, t**2, 'bs', t, t**3, 'b^')` 의 코드는 그래프 3개를 동시에 그린것이다.\n",
    "* `t, t, 'r--'`은 $x=t$, $y=t$일 때 빨간색 점선 `'r--'` 그래프를 의미한다.\n",
    "* `t, t**2, 'bs'` 는 $x = t$, $y = t^2$일 때 파란색 네모 점 그래프를 의미한다.\n",
    "* `t, t**3, 'g^'` 는 $x = t$, $y = t^3$일 때 초록색 세모 점 그래프를 의미한다.\n",
    "* y축은 따로 정하지 않으면 그래프 3개를 정상적으로 출력해준다.\n",
    "* 위에서 했던 [직선 그리기](#1.-Draw-Linear-Line) 에서 했던 방법과는 달리 `x = t`의 배열을 만들어 준 후 그래프를 그렸다.\n",
    "* 생성된 `t` 배열은 다음과 같이 생겼다.\n",
    "* `array([0.,0.2,0.4,0.6,0.8,1.,1.2,1.4,1.6,1.8,2.,2.2,2.4,2.6,2.8])`"
   ]
  },
  {
   "cell_type": "code",
   "execution_count": null,
   "metadata": {},
   "outputs": [],
   "source": []
  }
 ],
 "metadata": {
  "kernelspec": {
   "display_name": "Python 3",
   "language": "python",
   "name": "python3"
  },
  "language_info": {
   "codemirror_mode": {
    "name": "ipython",
    "version": 3
   },
   "file_extension": ".py",
   "mimetype": "text/x-python",
   "name": "python",
   "nbconvert_exporter": "python",
   "pygments_lexer": "ipython3",
   "version": "3.7.6"
  }
 },
 "nbformat": 4,
 "nbformat_minor": 4
}
