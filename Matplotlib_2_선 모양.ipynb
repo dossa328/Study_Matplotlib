{
 "cells": [
  {
   "cell_type": "markdown",
   "metadata": {},
   "source": [
    "#### Matplotlib은 파이썬에서 매트랩과 유사한 그래프 표시를 가능케 하는 라이브러리다.\n",
    "#### 당연히 언어는 Python 기반이며, 본 실습은 Jupyter위에서 진행하였다.\n",
    "본 실습은 https://wikidocs.net/13572 를 참고하였습니다."
   ]
  },
  {
   "cell_type": "code",
   "execution_count": 5,
   "metadata": {},
   "outputs": [],
   "source": [
    "import warnings\n",
    "import numpy as np\n",
    "import matplotlib.pyplot as plt\n",
    "\n",
    "warnings.simplefilter(action='ignore', category=Warning)\n",
    "\n",
    "# warning을 무시하기 위해 전처리를 해준다"
   ]
  },
  {
   "cell_type": "markdown",
   "metadata": {},
   "source": [
    "# 2. 선 모양 다루기"
   ]
  },
  {
   "cell_type": "markdown",
   "metadata": {},
   "source": [
    "### 2.1 plot을 이용한 선"
   ]
  },
  {
   "cell_type": "markdown",
   "metadata": {},
   "source": [
    "공식은 다음과 같다\n",
    "`plot.plot(x,y, <선 값>)` 여기서 선값은 optional 하다.\n",
    "\n",
    "<el>다음 예시를 보면"
   ]
  },
  {
   "cell_type": "code",
   "execution_count": 6,
   "metadata": {},
   "outputs": [
    {
     "data": {
      "image/png": "[encoded data removed]",
      "text/plain": [
       "<Figure size 432x288 with 1 Axes>"
      ]
     },
     "metadata": {
      "needs_background": "light"
     },
     "output_type": "display_data"
    }
   ],
   "source": [
    "t = np.arange(0., 5., 0.2)\n",
    "\n",
    "plt.plot(t, t**2)\n",
    "plt.show()"
   ]
  },
  {
   "cell_type": "markdown",
   "metadata": {},
   "source": [
    "* $y = x^2$ 의 파란색 그래프를 볼 수 있다.\n",
    "* 이 그래프의 선 모양을 조정하기 위해서 `plt.plot(t, t**2, 'ro')`와 같이 선모양 값을 넣는 방법이 있다.\n",
    "( 이 부분은 Matplotlib_1 에서 하고 지나갔다)"
   ]
  },
  {
   "cell_type": "markdown",
   "metadata": {},
   "source": [
    "#### 해보기"
   ]
  },
  {
   "cell_type": "code",
   "execution_count": 8,
   "metadata": {},
   "outputs": [
    {
     "data": {
      "image/png": "[encoded data removed]",
      "text/plain": [
       "<Figure size 432x288 with 1 Axes>"
      ]
     },
     "metadata": {
      "needs_background": "light"
     },
     "output_type": "display_data"
    }
   ],
   "source": [
    "t = np.arange(0., 5., 0.2)\n",
    "\n",
    "plt.plot(t, t**2, 'bo')\n",
    "plt.show()"
   ]
  },
  {
   "cell_type": "markdown",
   "metadata": {},
   "source": [
    "### 2.2 선 모양 바꾸기"
   ]
  },
  {
   "cell_type": "markdown",
   "metadata": {},
   "source": [
    "* 선 두께, 색깔 등 세세한 모양을 바꾸기 위해 `setp()` 명령어를 사용해본다"
   ]
  },
  {
   "cell_type": "code",
   "execution_count": 10,
   "metadata": {},
   "outputs": [
    {
     "data": {
      "image/png": "[encoded data removed]",
      "text/plain": [
       "<Figure size 432x288 with 1 Axes>"
      ]
     },
     "metadata": {
      "needs_background": "light"
     },
     "output_type": "display_data"
    }
   ],
   "source": [
    "t= np.arange(0., 5., 0.2)\n",
    "line = plt.plot(t, t**2)\n",
    "plt.setp(line, color = 'b', linewidth = 8.0)\n",
    "plt.show()"
   ]
  },
  {
   "cell_type": "markdown",
   "metadata": {},
   "source": [
    "* `color = 'b'` 처럼 속성을 주기위해 `property = value` 로써 추가 할수있다, 관련 종류를 알아보자"
   ]
  },
  {
   "cell_type": "markdown",
   "metadata": {},
   "source": [
    "|roperty|value|설명|사용예시|\n",
    "|:---:|:---:|:---:|:---:|\n",
    "|alpha|실수값|투명도 조절|alpha = 0.2|\n",
    "|animated|True/False|동적 애니메이션 사용 여부|animated = True|\n",
    "|color|색깔|'b'(blue), 'r'(red), 'y'(yellow) 등|color = 'r'|\n",
    "|dash_capstyle|'butt', 'round', 'projecting'|선끝 스타일|dash_capstyle= 'round'|\n",
    "|dash_joinstyle|'miter', 'round', 'bevel'|꺾임 스타일|dash_joinstyle = 'round'|\n",
    "|label|문자열\t라벨|label = 'x-axis'|\n",
    "|linestyle|' - ', ' -- ', ' -. ', ' : ' , 'steps'|선스타일|linestyle = '--'|\n",
    "|linewidth|실숫값|선 두께|linewidth = 2.2|\n",
    "|visible|True/False|보여라|visible = True|\n",
    "|xdata|np.array|x 데이터|xdata = np.arange(0., 5., 0.2)|\n",
    "|ydata|np.array|y 데이터|ydata = np.arange(0., 5., 0.2)|"
   ]
  },
  {
   "cell_type": "markdown",
   "metadata": {},
   "source": [
    "* 이 외에도 matplotlib 사이트에 많이 있다. 더 궁금하면 참고해보자\n",
    "* link = https://matplotlib.org/3.1.1/api/_as_gen/matplotlib.lines.Line2D.html"
   ]
  },
  {
   "cell_type": "markdown",
   "metadata": {},
   "source": [
    "#### self test"
   ]
  },
  {
   "cell_type": "code",
   "execution_count": 23,
   "metadata": {},
   "outputs": [
    {
     "data": {
      "image/png": "[encoded data removed]",
      "text/plain": [
       "<Figure size 432x288 with 1 Axes>"
      ]
     },
     "metadata": {
      "needs_background": "light"
     },
     "output_type": "display_data"
    }
   ],
   "source": [
    "t = np.arange(0.,5.,0.2)\n",
    "line = plt.plot(t, t**2)\n",
    "plt.setp(line, color = 'r', alpha = 0.2, dash_capstyle = 'round', dash_joinstyle = 'round', linestyle = 'steps', linewidth = '5.5')\n",
    "plt.show()"
   ]
  },
  {
   "cell_type": "markdown",
   "metadata": {},
   "source": [
    "* 신기하다."
   ]
  },
  {
   "cell_type": "code",
   "execution_count": null,
   "metadata": {},
   "outputs": [],
   "source": []
  }
 ],
 "metadata": {
  "kernelspec": {
   "display_name": "Python 3",
   "language": "python",
   "name": "python3"
  },
  "language_info": {
   "codemirror_mode": {
    "name": "ipython",
    "version": 3
   },
   "file_extension": ".py",
   "mimetype": "text/x-python",
   "name": "python",
   "nbconvert_exporter": "python",
   "pygments_lexer": "ipython3",
   "version": "3.7.6"
  }
 },
 "nbformat": 4,
 "nbformat_minor": 4
}
